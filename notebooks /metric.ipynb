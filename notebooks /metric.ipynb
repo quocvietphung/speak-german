{
 "cells": [
  {
   "cell_type": "code",
   "id": "initial_id",
   "metadata": {
    "collapsed": true,
    "ExecuteTime": {
     "end_time": "2025-08-21T15:26:34.416500Z",
     "start_time": "2025-08-21T15:26:34.403819Z"
    }
   },
   "source": [
    "# 1. Import Libraries\n",
    "import torch\n",
    "import pandas as pd\n",
    "import matplotlib.pyplot as plt\n",
    "from datasets import load_dataset, Audio\n",
    "from transformers import WhisperProcessor, WhisperForConditionalGeneration\n",
    "import evaluate"
   ],
   "outputs": [],
   "execution_count": 24
  },
  {
   "metadata": {
    "ExecuteTime": {
     "end_time": "2025-08-21T15:26:36.885766Z",
     "start_time": "2025-08-21T15:26:35.848395Z"
    }
   },
   "cell_type": "code",
   "source": [
    "# 2. Load Models\n",
    "MODEL_BASE = \"../models/whisper_tiny_de\"\n",
    "MODEL_FT = \"../models/whisper_tiny_de_finetuned\"\n",
    "\n",
    "processor = WhisperProcessor.from_pretrained(MODEL_BASE)\n",
    "model_base = WhisperForConditionalGeneration.from_pretrained(MODEL_BASE).to(\"mps\")\n",
    "model_ft = WhisperForConditionalGeneration.from_pretrained(MODEL_FT).to(\"mps\")"
   ],
   "id": "bced18f5b1a3665f",
   "outputs": [],
   "execution_count": 25
  },
  {
   "metadata": {
    "ExecuteTime": {
     "end_time": "2025-08-21T15:26:39.263549Z",
     "start_time": "2025-08-21T15:26:38.055234Z"
    }
   },
   "cell_type": "code",
   "source": [
    "# 3. Load Dataset (Common Voice German – nhỏ để test)\n",
    "common_voice = load_dataset(\n",
    "    \"mozilla-foundation/common_voice_13_0\",\n",
    "    \"de\",\n",
    "    split=\"test[:1%]\"  # chỉ 1% để chạy nhanh\n",
    ")\n",
    "common_voice = common_voice.cast_column(\"audio\", Audio(sampling_rate=16000))\n",
    "print(common_voice[0])"
   ],
   "id": "c340f70669a02ac1",
   "outputs": [
    {
     "name": "stdout",
     "output_type": "stream",
     "text": [
      "{'client_id': '0052c07533a6976233ad5926d950b523002c4d8cdd9ae8726dbfec385951bd22aa707a742c49afe20c7d6cb9515dbaddac5b4d6fe8ebddcfbec46a2d3180a3a1', 'path': '/Users/vietphung/.cache/huggingface/datasets/downloads/extracted/ccc7b257eee0ae4c1d6e33545d2e70a289a88ee542f249aeccee5ffe2b8710ae/de_test_0/common_voice_de_17922420.mp3', 'audio': {'path': '/Users/vietphung/.cache/huggingface/datasets/downloads/extracted/ccc7b257eee0ae4c1d6e33545d2e70a289a88ee542f249aeccee5ffe2b8710ae/de_test_0/common_voice_de_17922420.mp3', 'array': array([-1.20792265e-13,  8.88178420e-15, -7.81597009e-14, ...,\n",
      "        1.40588030e-09, -3.40380302e-09,  1.92106775e-10]), 'sampling_rate': 16000}, 'sentence': 'Zieht euch bitte draußen die Schuhe aus.', 'up_votes': 2, 'down_votes': 0, 'age': '', 'gender': '', 'accent': '', 'locale': 'de', 'segment': '', 'variant': ''}\n"
     ]
    }
   ],
   "execution_count": 26
  },
  {
   "metadata": {
    "ExecuteTime": {
     "end_time": "2025-08-21T15:26:42.778906Z",
     "start_time": "2025-08-21T15:26:41.339204Z"
    }
   },
   "cell_type": "code",
   "source": [
    "# 4. Define Evaluation Function\n",
    "wer_metric = evaluate.load(\"wer\")\n",
    "cer_metric = evaluate.load(\"cer\")\n",
    "\n",
    "def evaluate_model(model, processor, dataset, num_samples=50):\n",
    "    \"\"\"\n",
    "    Evaluate model on WER, CER using a subset of dataset.\n",
    "    \"\"\"\n",
    "    refs, preds = [], []\n",
    "    for i, ex in enumerate(dataset.select(range(num_samples))):\n",
    "        audio = ex[\"audio\"][\"array\"]\n",
    "        inputs = processor(\n",
    "            audio,\n",
    "            sampling_rate=16000,\n",
    "            return_tensors=\"pt\"\n",
    "        ).to(\"mps\")\n",
    "\n",
    "        with torch.no_grad():\n",
    "            generated_ids = model.generate(\n",
    "                inputs.input_features,\n",
    "                generation_config=model.generation_config\n",
    "            )\n",
    "        pred = processor.batch_decode(generated_ids, skip_special_tokens=True)[0]\n",
    "        refs.append(ex[\"sentence\"])\n",
    "        preds.append(pred)\n",
    "\n",
    "    wer = wer_metric.compute(predictions=preds, references=refs)\n",
    "    cer = cer_metric.compute(predictions=preds, references=refs)\n",
    "    return wer, cer, preds[:5], refs[:5]"
   ],
   "id": "661c1a9ea1288fc2",
   "outputs": [],
   "execution_count": 27
  },
  {
   "metadata": {
    "ExecuteTime": {
     "end_time": "2025-08-21T15:27:24.698206Z",
     "start_time": "2025-08-21T15:26:55.012107Z"
    }
   },
   "cell_type": "code",
   "source": [
    "# 5. Run Evaluation (Base Model)\n",
    "wer_base, cer_base, preds_base, refs_base = evaluate_model(model_base, processor, common_voice)\n",
    "\n",
    "print(\"=== Base Model ===\")\n",
    "print(f\"WER: {wer_base:.4f}\")\n",
    "print(f\"CER: {cer_base:.4f}\")\n",
    "print(\"\\nExamples:\")\n",
    "for r, p in zip(refs_base, preds_base):\n",
    "    print(f\"REF: {r}\\nPRED: {p}\\n\")"
   ],
   "id": "2809218f91fc5e76",
   "outputs": [
    {
     "name": "stdout",
     "output_type": "stream",
     "text": [
      "=== Base Model ===\n",
      "WER: 0.9721\n",
      "CER: 0.4806\n",
      "\n",
      "Examples:\n",
      "REF: Zieht euch bitte draußen die Schuhe aus.\n",
      "PRED:  Sieht euch bitte draußen die Schuhe aus.\n",
      "\n",
      "REF: Es gibt auch mehrere Campingplätze.\n",
      "PRED:  Päskelt auch mehr Ergämpfe in Plätze.\n",
      "\n",
      "REF: Als Kind wollte er nach eigenen Aussagen Footballspieler werden.\n",
      "PRED:  Als Kind wurde nach Einen aus Sagenfutburg-Spieler werden.\n",
      "\n",
      "REF: Es kommt zum Showdown in Gstaad.\n",
      "PRED:  Das kommt runter.\n",
      "\n",
      "REF: Ihre Fotostrecken erschienen in Modemagazinen wie der Vogue, Harper’s Bazaar und Marie Claire.\n",
      "PRED:  Die Defurtusträgen ja schienen den Monabagantien mit der Rauke, hat das Bazar der Riker.\n",
      "\n"
     ]
    }
   ],
   "execution_count": 28
  },
  {
   "metadata": {
    "ExecuteTime": {
     "end_time": "2025-08-21T15:27:52.624095Z",
     "start_time": "2025-08-21T15:27:31.450205Z"
    }
   },
   "cell_type": "code",
   "source": [
    "# 6. Run Evaluation (Fine-Tuned Model)\n",
    "wer_ft, cer_ft, preds_ft, refs_ft = evaluate_model(model_ft, processor, common_voice)\n",
    "\n",
    "print(\"=== Fine-Tuned Model ===\")\n",
    "print(f\"WER: {wer_ft:.4f}\")\n",
    "print(f\"CER: {cer_ft:.4f}\")\n",
    "print(\"\\nExamples:\")\n",
    "for r, p in zip(refs_ft, preds_ft):\n",
    "    print(f\"REF: {r}\\nPRED: {p}\\n\")"
   ],
   "id": "83dbf9e20994f645",
   "outputs": [
    {
     "name": "stdout",
     "output_type": "stream",
     "text": [
      "=== Fine-Tuned Model ===\n",
      "WER: 0.4628\n",
      "CER: 0.2086\n",
      "\n",
      "Examples:\n",
      "REF: Zieht euch bitte draußen die Schuhe aus.\n",
      "PRED:  zieht euch bitte draußen die Schuhe aus.\n",
      "\n",
      "REF: Es gibt auch mehrere Campingplätze.\n",
      "PRED:  Päs geht auch mehrere Gewinplätze.\n",
      "\n",
      "REF: Als Kind wollte er nach eigenen Aussagen Footballspieler werden.\n",
      "PRED:  Als Kind wurde er nach eigenen Aussagen fortburspieler werden.\n",
      "\n",
      "REF: Es kommt zum Showdown in Gstaad.\n",
      "PRED:  Es kommt und verankt.\n",
      "\n",
      "REF: Ihre Fotostrecken erschienen in Modemagazinen wie der Vogue, Harper’s Bazaar und Marie Claire.\n",
      "PRED:  Ihre Fotosträgen erschienen eine Monomariziehen mit der Rauk-Hartensbersar-Wahrriker.\n",
      "\n"
     ]
    }
   ],
   "execution_count": 29
  },
  {
   "metadata": {
    "ExecuteTime": {
     "end_time": "2025-08-21T15:29:11.976294Z",
     "start_time": "2025-08-21T15:29:11.955286Z"
    }
   },
   "cell_type": "code",
   "source": [
    "# 7. Compare Results in Table\n",
    "df = pd.DataFrame({\n",
    "    \"Model\": [\"Base\", \"Fine-tuned\"],\n",
    "    \"WER\": [wer_base, wer_ft],\n",
    "    \"CER\": [cer_base, cer_ft]\n",
    "})\n",
    "display(df)"
   ],
   "id": "faaf5a369eab9480",
   "outputs": [
    {
     "data": {
      "text/plain": [
       "        Model       WER       CER\n",
       "0        Base  0.972093  0.480599\n",
       "1  Fine-tuned  0.462791  0.208645"
      ],
      "text/html": [
       "<div>\n",
       "<style scoped>\n",
       "    .dataframe tbody tr th:only-of-type {\n",
       "        vertical-align: middle;\n",
       "    }\n",
       "\n",
       "    .dataframe tbody tr th {\n",
       "        vertical-align: top;\n",
       "    }\n",
       "\n",
       "    .dataframe thead th {\n",
       "        text-align: right;\n",
       "    }\n",
       "</style>\n",
       "<table border=\"1\" class=\"dataframe\">\n",
       "  <thead>\n",
       "    <tr style=\"text-align: right;\">\n",
       "      <th></th>\n",
       "      <th>Model</th>\n",
       "      <th>WER</th>\n",
       "      <th>CER</th>\n",
       "    </tr>\n",
       "  </thead>\n",
       "  <tbody>\n",
       "    <tr>\n",
       "      <th>0</th>\n",
       "      <td>Base</td>\n",
       "      <td>0.972093</td>\n",
       "      <td>0.480599</td>\n",
       "    </tr>\n",
       "    <tr>\n",
       "      <th>1</th>\n",
       "      <td>Fine-tuned</td>\n",
       "      <td>0.462791</td>\n",
       "      <td>0.208645</td>\n",
       "    </tr>\n",
       "  </tbody>\n",
       "</table>\n",
       "</div>"
      ]
     },
     "metadata": {},
     "output_type": "display_data"
    }
   ],
   "execution_count": 30
  },
  {
   "metadata": {
    "ExecuteTime": {
     "end_time": "2025-08-21T15:29:13.571171Z",
     "start_time": "2025-08-21T15:29:13.478678Z"
    }
   },
   "cell_type": "code",
   "source": [
    "plt.figure(figsize=(6,4))\n",
    "plt.bar(df[\"Model\"], df[\"WER\"], label=\"WER\", alpha=0.7)\n",
    "plt.bar(df[\"Model\"], df[\"CER\"], label=\"CER\", alpha=0.7)\n",
    "plt.ylabel(\"Error Rate\")\n",
    "plt.title(\"WER & CER Comparison\")\n",
    "plt.legend()\n",
    "plt.show()"
   ],
   "id": "5a485d47d893c55c",
   "outputs": [
    {
     "data": {
      "text/plain": [
       "<Figure size 600x400 with 1 Axes>"
      ],
      "image/png": "[encoded data removed]"
     },
     "metadata": {},
     "output_type": "display_data"
    }
   ],
   "execution_count": 31
  }
 ],
 "metadata": {
  "kernelspec": {
   "display_name": "Python 3",
   "language": "python",
   "name": "python3"
  },
  "language_info": {
   "codemirror_mode": {
    "name": "ipython",
    "version": 2
   },
   "file_extension": ".py",
   "mimetype": "text/x-python",
   "name": "python",
   "nbconvert_exporter": "python",
   "pygments_lexer": "ipython2",
   "version": "2.7.6"
  }
 },
 "nbformat": 4,
 "nbformat_minor": 5
}
