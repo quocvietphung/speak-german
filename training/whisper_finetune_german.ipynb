{
 "cells": [
  {
   "metadata": {},
   "cell_type": "markdown",
   "source": "# 🤖 1. Import thư viện",
   "id": "fd5bd0a3ed6e09c5"
  },
  {
   "metadata": {
    "ExecuteTime": {
     "end_time": "2025-08-20T07:10:29.527825Z",
     "start_time": "2025-08-20T07:10:22.266493Z"
    }
   },
   "cell_type": "code",
   "source": [
    "import os\n",
    "import torch\n",
    "import evaluate\n",
    "import numpy as np\n",
    "from dataclasses import dataclass\n",
    "from typing import Any, Dict, List\n",
    "import matplotlib.pyplot as plt\n",
    "\n",
    "from datasets import load_dataset, Audio\n",
    "from huggingface_hub import notebook_login\n",
    "from transformers import (\n",
    "    WhisperProcessor,\n",
    "    WhisperForConditionalGeneration,\n",
    "    Seq2SeqTrainer,\n",
    "    Seq2SeqTrainingArguments,\n",
    "    EarlyStoppingCallback\n",
    ")"
   ],
   "id": "392021f6bb2497d",
   "outputs": [],
   "execution_count": 2
  },
  {
   "metadata": {
    "ExecuteTime": {
     "end_time": "2025-08-19T23:39:06.110251Z",
     "start_time": "2025-08-19T23:16:07.801844Z"
    }
   },
   "cell_type": "code",
   "source": [
    "# 🔑 Đăng nhập Hugging Face (chạy 1 lần, nhập token ở output)\n",
    "from huggingface_hub import notebook_login\n",
    "notebook_login()\n",
    "\n",
    "# 📌 Model ID & thư mục lưu kết quả fine-tune\n",
    "MODEL_ID = \"openai/whisper-large-v3\"\n",
    "OUTPUT_DIR = \"./models/whisper_de_finetune\"   # <- model nằm trong training\n",
    "\n",
    "# 📥 Tải dataset Common Voice 13.0 (tiếng Đức)\n",
    "# -> train: 5000 mẫu, validation: 1000 mẫu, test: 1000 mẫu\n",
    "from datasets import load_dataset, Audio\n",
    "\n",
    "common_voice_train = load_dataset(\n",
    "    \"mozilla-foundation/common_voice_13_0\",\n",
    "    \"de\",\n",
    "    split=\"train[:5000]+validation[:1000]\",\n",
    "    trust_remote_code=True\n",
    ")\n",
    "\n",
    "common_voice_eval = load_dataset(\n",
    "    \"mozilla-foundation/common_voice_13_0\",\n",
    "    \"de\",\n",
    "    split=\"test[:1000]\",\n",
    "    trust_remote_code=True\n",
    ")\n",
    "\n",
    "# 🎵 Chuyển audio sampling_rate về 16kHz cho phù hợp với Whisper\n",
    "common_voice_train = common_voice_train.cast_column(\"audio\", Audio(sampling_rate=16000))\n",
    "common_voice_eval = common_voice_eval.cast_column(\"audio\", Audio(sampling_rate=16000))\n",
    "\n",
    "print(common_voice_train)\n",
    "print(common_voice_eval)"
   ],
   "id": "f12f6b3477776379",
   "outputs": [
    {
     "data": {
      "text/plain": [
       "VBox(children=(HTML(value='<center> <img\\nsrc=https://huggingface.co/front/assets/huggingface_logo-noborder.sv…"
      ],
      "application/vnd.jupyter.widget-view+json": {
       "version_major": 2,
       "version_minor": 0,
       "model_id": "a48e0f4352cc4b91b8c220cf88d411ef"
      }
     },
     "metadata": {},
     "output_type": "display_data"
    },
    {
     "data": {
      "text/plain": [
       "audio/de/train/de_train_1.tar:   0%|          | 0.00/1.66G [00:00<?, ?B/s]"
      ],
      "application/vnd.jupyter.widget-view+json": {
       "version_major": 2,
       "version_minor": 0,
       "model_id": "cb1d640b5fcd4abba07981920ab9e246"
      }
     },
     "metadata": {},
     "output_type": "display_data"
    },
    {
     "data": {
      "text/plain": [
       "audio/de/train/de_train_2.tar:   0%|          | 0.00/1.65G [00:00<?, ?B/s]"
      ],
      "application/vnd.jupyter.widget-view+json": {
       "version_major": 2,
       "version_minor": 0,
       "model_id": "5b959f2216da448b80ee55b4a630a5c2"
      }
     },
     "metadata": {},
     "output_type": "display_data"
    },
    {
     "data": {
      "text/plain": [
       "audio/de/train/de_train_3.tar:   0%|          | 0.00/1.58G [00:00<?, ?B/s]"
      ],
      "application/vnd.jupyter.widget-view+json": {
       "version_major": 2,
       "version_minor": 0,
       "model_id": "758e4067c4574cefb0b1f57d9dca8d40"
      }
     },
     "metadata": {},
     "output_type": "display_data"
    },
    {
     "data": {
      "text/plain": [
       "audio/de/train/de_train_4.tar:   0%|          | 0.00/1.55G [00:00<?, ?B/s]"
      ],
      "application/vnd.jupyter.widget-view+json": {
       "version_major": 2,
       "version_minor": 0,
       "model_id": "b8014d14ba114e659a8965245411eaee"
      }
     },
     "metadata": {},
     "output_type": "display_data"
    },
    {
     "data": {
      "text/plain": [
       "audio/de/train/de_train_5.tar:   0%|          | 0.00/1.56G [00:00<?, ?B/s]"
      ],
      "application/vnd.jupyter.widget-view+json": {
       "version_major": 2,
       "version_minor": 0,
       "model_id": "6f6461b7b4044b99b5e1261f0e31f913"
      }
     },
     "metadata": {},
     "output_type": "display_data"
    },
    {
     "data": {
      "text/plain": [
       "audio/de/train/de_train_6.tar:   0%|          | 0.00/1.61G [00:00<?, ?B/s]"
      ],
      "application/vnd.jupyter.widget-view+json": {
       "version_major": 2,
       "version_minor": 0,
       "model_id": "288c6f5869ef419d8da4f9449bef8aeb"
      }
     },
     "metadata": {},
     "output_type": "display_data"
    },
    {
     "data": {
      "text/plain": [
       "audio/de/train/de_train_7.tar:   0%|          | 0.00/1.56G [00:00<?, ?B/s]"
      ],
      "application/vnd.jupyter.widget-view+json": {
       "version_major": 2,
       "version_minor": 0,
       "model_id": "8f9302031a0146cbb3d2d694cd55409e"
      }
     },
     "metadata": {},
     "output_type": "display_data"
    },
    {
     "data": {
      "text/plain": [
       "audio/de/train/de_train_8.tar:   0%|          | 0.00/1.58G [00:00<?, ?B/s]"
      ],
      "application/vnd.jupyter.widget-view+json": {
       "version_major": 2,
       "version_minor": 0,
       "model_id": "88ead4b2011f4bfbbd480a36c30dfa22"
      }
     },
     "metadata": {},
     "output_type": "display_data"
    },
    {
     "data": {
      "text/plain": [
       "audio/de/train/de_train_9.tar:   0%|          | 0.00/1.49G [00:00<?, ?B/s]"
      ],
      "application/vnd.jupyter.widget-view+json": {
       "version_major": 2,
       "version_minor": 0,
       "model_id": "dff1d846f7024ca285bd7889d6280053"
      }
     },
     "metadata": {},
     "output_type": "display_data"
    },
    {
     "data": {
      "text/plain": [
       "audio/de/train/de_train_10.tar:   0%|          | 0.00/1.48G [00:00<?, ?B/s]"
      ],
      "application/vnd.jupyter.widget-view+json": {
       "version_major": 2,
       "version_minor": 0,
       "model_id": "4231f94ff7a54b47b312ac7ebaf8230d"
      }
     },
     "metadata": {},
     "output_type": "display_data"
    },
    {
     "data": {
      "text/plain": [
       "audio/de/train/de_train_11.tar:   0%|          | 0.00/1.57G [00:00<?, ?B/s]"
      ],
      "application/vnd.jupyter.widget-view+json": {
       "version_major": 2,
       "version_minor": 0,
       "model_id": "0a029822d72c4c2caa983e02751d2378"
      }
     },
     "metadata": {},
     "output_type": "display_data"
    },
    {
     "data": {
      "text/plain": [
       "audio/de/train/de_train_12.tar:   0%|          | 0.00/2.20G [00:00<?, ?B/s]"
      ],
      "application/vnd.jupyter.widget-view+json": {
       "version_major": 2,
       "version_minor": 0,
       "model_id": "63fcb355de4141d193e38496282aaf71"
      }
     },
     "metadata": {},
     "output_type": "display_data"
    },
    {
     "data": {
      "text/plain": [
       "audio/de/train/de_train_13.tar:   0%|          | 0.00/765M [00:00<?, ?B/s]"
      ],
      "application/vnd.jupyter.widget-view+json": {
       "version_major": 2,
       "version_minor": 0,
       "model_id": "c851215f8b634ae58c88fbe972406231"
      }
     },
     "metadata": {},
     "output_type": "display_data"
    },
    {
     "data": {
      "text/plain": [
       "audio/de/dev/de_dev_0.tar:   0%|          | 0.00/718M [00:00<?, ?B/s]"
      ],
      "application/vnd.jupyter.widget-view+json": {
       "version_major": 2,
       "version_minor": 0,
       "model_id": "a9d8613e5d294dab8f8843a699ad0ffc"
      }
     },
     "metadata": {},
     "output_type": "display_data"
    },
    {
     "data": {
      "text/plain": [
       "audio/de/test/de_test_0.tar:   0%|          | 0.00/725M [00:00<?, ?B/s]"
      ],
      "application/vnd.jupyter.widget-view+json": {
       "version_major": 2,
       "version_minor": 0,
       "model_id": "c21366e262b44d41a803a113bb5a2491"
      }
     },
     "metadata": {},
     "output_type": "display_data"
    },
    {
     "data": {
      "text/plain": [
       "audio/de/other/de_other_0.tar:   0%|          | 0.00/220M [00:00<?, ?B/s]"
      ],
      "application/vnd.jupyter.widget-view+json": {
       "version_major": 2,
       "version_minor": 0,
       "model_id": "28edfa7a2ee04d748cc295d9ab3ef1e3"
      }
     },
     "metadata": {},
     "output_type": "display_data"
    },
    {
     "data": {
      "text/plain": [
       "audio/de/invalidated/de_invalidated_0.ta(…):   0%|          | 0.00/1.73G [00:00<?, ?B/s]"
      ],
      "application/vnd.jupyter.widget-view+json": {
       "version_major": 2,
       "version_minor": 0,
       "model_id": "51d50cf951914c9ebfe5a41ed95c53af"
      }
     },
     "metadata": {},
     "output_type": "display_data"
    },
    {
     "data": {
      "text/plain": [
       "audio/de/invalidated/de_invalidated_1.ta(…):   0%|          | 0.00/415M [00:00<?, ?B/s]"
      ],
      "application/vnd.jupyter.widget-view+json": {
       "version_major": 2,
       "version_minor": 0,
       "model_id": "b3c0252a53b6499e8a42851a8897ad00"
      }
     },
     "metadata": {},
     "output_type": "display_data"
    },
    {
     "data": {
      "text/plain": [
       "transcript/de/train.tsv:   0%|          | 0.00/144M [00:00<?, ?B/s]"
      ],
      "application/vnd.jupyter.widget-view+json": {
       "version_major": 2,
       "version_minor": 0,
       "model_id": "9df52b3a91e34135a9e10045e6066671"
      }
     },
     "metadata": {},
     "output_type": "display_data"
    },
    {
     "data": {
      "text/plain": [
       "transcript/de/dev.tsv:   0%|          | 0.00/3.90M [00:00<?, ?B/s]"
      ],
      "application/vnd.jupyter.widget-view+json": {
       "version_major": 2,
       "version_minor": 0,
       "model_id": "c3f1ebf968d14786994058dfb304bcd7"
      }
     },
     "metadata": {},
     "output_type": "display_data"
    },
    {
     "data": {
      "text/plain": [
       "transcript/de/test.tsv:   0%|          | 0.00/3.87M [00:00<?, ?B/s]"
      ],
      "application/vnd.jupyter.widget-view+json": {
       "version_major": 2,
       "version_minor": 0,
       "model_id": "1f9d24c49472442399576c56dff10f34"
      }
     },
     "metadata": {},
     "output_type": "display_data"
    },
    {
     "data": {
      "text/plain": [
       "transcript/de/other.tsv:   0%|          | 0.00/1.68M [00:00<?, ?B/s]"
      ],
      "application/vnd.jupyter.widget-view+json": {
       "version_major": 2,
       "version_minor": 0,
       "model_id": "7d2bf2cd589447cda85170292a11ce39"
      }
     },
     "metadata": {},
     "output_type": "display_data"
    },
    {
     "data": {
      "text/plain": [
       "transcript/de/invalidated.tsv:   0%|          | 0.00/13.0M [00:00<?, ?B/s]"
      ],
      "application/vnd.jupyter.widget-view+json": {
       "version_major": 2,
       "version_minor": 0,
       "model_id": "69cbe57c2ab245159633e93ee05ea78c"
      }
     },
     "metadata": {},
     "output_type": "display_data"
    },
    {
     "data": {
      "text/plain": [
       "Generating train split: 0 examples [00:00, ? examples/s]"
      ],
      "application/vnd.jupyter.widget-view+json": {
       "version_major": 2,
       "version_minor": 0,
       "model_id": "9408f76bae424f56ab1a8fa4020584cb"
      }
     },
     "metadata": {},
     "output_type": "display_data"
    },
    {
     "name": "stderr",
     "output_type": "stream",
     "text": [
      "\n",
      "Reading metadata...: 0it [00:00, ?it/s]\u001B[A\n",
      "Reading metadata...: 16564it [00:00, 165630.29it/s]\u001B[A\n",
      "Reading metadata...: 33128it [00:00, 160001.20it/s]\u001B[A\n",
      "Reading metadata...: 51187it [00:00, 169219.76it/s]\u001B[A\n",
      "Reading metadata...: 68134it [00:00, 148869.36it/s]\u001B[A\n",
      "Reading metadata...: 89057it [00:00, 168722.09it/s]\u001B[A\n",
      "Reading metadata...: 111605it [00:00, 186856.16it/s]\u001B[A\n",
      "Reading metadata...: 132946it [00:00, 195176.66it/s]\u001B[A\n",
      "Reading metadata...: 152752it [00:00, 178192.00it/s]\u001B[A\n",
      "Reading metadata...: 171014it [00:00, 175067.00it/s]\u001B[A\n",
      "Reading metadata...: 191741it [00:01, 184253.97it/s]\u001B[A\n",
      "Reading metadata...: 213290it [00:01, 193295.87it/s]\u001B[A\n",
      "Reading metadata...: 235085it [00:01, 200504.62it/s]\u001B[A\n",
      "Reading metadata...: 256897it [00:01, 205693.23it/s]\u001B[A\n",
      "Reading metadata...: 278682it [00:01, 209292.69it/s]\u001B[A\n",
      "Reading metadata...: 299726it [00:01, 208939.85it/s]\u001B[A\n",
      "Reading metadata...: 321926it [00:01, 212821.51it/s]\u001B[A\n",
      "Reading metadata...: 343443it [00:01, 213518.65it/s]\u001B[A\n",
      "Reading metadata...: 364838it [00:01, 211314.06it/s]\u001B[A\n",
      "Reading metadata...: 386792it [00:01, 213750.88it/s]\u001B[A\n",
      "Reading metadata...: 409159it [00:02, 216442.90it/s]\u001B[A\n",
      "Reading metadata...: 430824it [00:02, 172640.55it/s]\u001B[A\n",
      "Reading metadata...: 451855it [00:02, 182188.94it/s]\u001B[A\n",
      "Reading metadata...: 473614it [00:02, 191598.54it/s]\u001B[A\n",
      "Reading metadata...: 494475it [00:02, 196277.30it/s]\u001B[A\n",
      "Reading metadata...: 514799it [00:02, 195794.91it/s]\u001B[A\n",
      "Reading metadata...: 540437it [00:02, 192302.17it/s]\u001B[A\n"
     ]
    },
    {
     "data": {
      "text/plain": [
       "Generating validation split: 0 examples [00:00, ? examples/s]"
      ],
      "application/vnd.jupyter.widget-view+json": {
       "version_major": 2,
       "version_minor": 0,
       "model_id": "e953805c22254f82957866aabfc036ca"
      }
     },
     "metadata": {},
     "output_type": "display_data"
    },
    {
     "name": "stderr",
     "output_type": "stream",
     "text": [
      "\n",
      "Reading metadata...: 16143it [00:00, 232939.93it/s]\n"
     ]
    },
    {
     "data": {
      "text/plain": [
       "Generating test split: 0 examples [00:00, ? examples/s]"
      ],
      "application/vnd.jupyter.widget-view+json": {
       "version_major": 2,
       "version_minor": 0,
       "model_id": "839dfedfc1514e15a79589acc588dfb3"
      }
     },
     "metadata": {},
     "output_type": "display_data"
    },
    {
     "name": "stderr",
     "output_type": "stream",
     "text": [
      "\n",
      "Reading metadata...: 16143it [00:00, 205305.26it/s]\n"
     ]
    },
    {
     "data": {
      "text/plain": [
       "Generating other split: 0 examples [00:00, ? examples/s]"
      ],
      "application/vnd.jupyter.widget-view+json": {
       "version_major": 2,
       "version_minor": 0,
       "model_id": "cfe2ac77e3d1432bb9beee588bb90189"
      }
     },
     "metadata": {},
     "output_type": "display_data"
    },
    {
     "name": "stderr",
     "output_type": "stream",
     "text": [
      "\n",
      "Reading metadata...: 6381it [00:00, 136626.95it/s]\n"
     ]
    },
    {
     "data": {
      "text/plain": [
       "Generating invalidated split: 0 examples [00:00, ? examples/s]"
      ],
      "application/vnd.jupyter.widget-view+json": {
       "version_major": 2,
       "version_minor": 0,
       "model_id": "a004a4e91afd40ad86628c30aae08cf3"
      }
     },
     "metadata": {},
     "output_type": "display_data"
    },
    {
     "name": "stderr",
     "output_type": "stream",
     "text": [
      "\n",
      "Reading metadata...: 0it [00:00, ?it/s]\u001B[A\n",
      "Reading metadata...: 21050it [00:00, 199772.60it/s]\u001B[A\n",
      "Reading metadata...: 50705it [00:00, 139500.26it/s]\u001B[A\n"
     ]
    },
    {
     "name": "stdout",
     "output_type": "stream",
     "text": [
      "Dataset({\n",
      "    features: ['client_id', 'path', 'audio', 'sentence', 'up_votes', 'down_votes', 'age', 'gender', 'accent', 'locale', 'segment', 'variant'],\n",
      "    num_rows: 6000\n",
      "})\n",
      "Dataset({\n",
      "    features: ['client_id', 'path', 'audio', 'sentence', 'up_votes', 'down_votes', 'age', 'gender', 'accent', 'locale', 'segment', 'variant'],\n",
      "    num_rows: 1000\n",
      "})\n"
     ]
    }
   ],
   "execution_count": 4
  },
  {
   "metadata": {
    "ExecuteTime": {
     "end_time": "2025-08-20T07:10:52.144208Z",
     "start_time": "2025-08-20T07:10:52.128314Z"
    }
   },
   "cell_type": "code",
   "source": [
    "processor = WhisperProcessor.from_pretrained(MODEL_ID, language=\"de\", task=\"transcribe\")\n",
    "model = WhisperForConditionalGeneration.from_pretrained(MODEL_ID)\n",
    "\n",
    "# Đóng băng encoder để giảm số tham số phải train\n",
    "model.freeze_encoder()"
   ],
   "id": "ec983c87e0ab2e9c",
   "outputs": [
    {
     "ename": "NameError",
     "evalue": "name 'MODEL_ID' is not defined",
     "output_type": "error",
     "traceback": [
      "\u001B[0;31m---------------------------------------------------------------------------\u001B[0m",
      "\u001B[0;31mNameError\u001B[0m                                 Traceback (most recent call last)",
      "Cell \u001B[0;32mIn[4], line 1\u001B[0m\n\u001B[0;32m----> 1\u001B[0m processor \u001B[38;5;241m=\u001B[39m WhisperProcessor\u001B[38;5;241m.\u001B[39mfrom_pretrained(MODEL_ID, language\u001B[38;5;241m=\u001B[39m\u001B[38;5;124m\"\u001B[39m\u001B[38;5;124mde\u001B[39m\u001B[38;5;124m\"\u001B[39m, task\u001B[38;5;241m=\u001B[39m\u001B[38;5;124m\"\u001B[39m\u001B[38;5;124mtranscribe\u001B[39m\u001B[38;5;124m\"\u001B[39m)\n\u001B[1;32m      2\u001B[0m model \u001B[38;5;241m=\u001B[39m WhisperForConditionalGeneration\u001B[38;5;241m.\u001B[39mfrom_pretrained(MODEL_ID)\n\u001B[1;32m      4\u001B[0m \u001B[38;5;66;03m# Đóng băng encoder để giảm số tham số phải train\u001B[39;00m\n",
      "\u001B[0;31mNameError\u001B[0m: name 'MODEL_ID' is not defined"
     ]
    }
   ],
   "execution_count": 4
  },
  {
   "metadata": {
    "ExecuteTime": {
     "end_time": "2025-08-19T23:45:53.260773Z",
     "start_time": "2025-08-19T23:44:26.731270Z"
    }
   },
   "cell_type": "code",
   "source": [
    "def prepare_dataset(batch):\n",
    "    audio = batch[\"audio\"]\n",
    "    batch[\"input_features\"] = processor.feature_extractor(\n",
    "        audio[\"array\"], sampling_rate=16000\n",
    "    ).input_features[0]\n",
    "    batch[\"labels\"] = processor.tokenizer(batch[\"sentence\"]).input_ids\n",
    "    return batch\n",
    "\n",
    "# Map preprocess\n",
    "train_dataset = common_voice_train.map(\n",
    "    prepare_dataset,\n",
    "    remove_columns=common_voice_train.column_names,\n",
    "    num_proc=2\n",
    ")\n",
    "eval_dataset = common_voice_eval.map(\n",
    "    prepare_dataset,\n",
    "    remove_columns=common_voice_eval.column_names,\n",
    "    num_proc=2\n",
    ")"
   ],
   "id": "cda22d3c8778e496",
   "outputs": [
    {
     "data": {
      "text/plain": [
       "Map (num_proc=2):   0%|          | 0/6000 [00:00<?, ? examples/s]"
      ],
      "application/vnd.jupyter.widget-view+json": {
       "version_major": 2,
       "version_minor": 0,
       "model_id": "07dab9fbfdff4e34880f6abdc180a9c6"
      }
     },
     "metadata": {},
     "output_type": "display_data"
    },
    {
     "data": {
      "text/plain": [
       "Map (num_proc=2):   0%|          | 0/1000 [00:00<?, ? examples/s]"
      ],
      "application/vnd.jupyter.widget-view+json": {
       "version_major": 2,
       "version_minor": 0,
       "model_id": "ffa67bbf3cc1447aaa43c50d5180dcb4"
      }
     },
     "metadata": {},
     "output_type": "display_data"
    }
   ],
   "execution_count": 6
  },
  {
   "metadata": {
    "ExecuteTime": {
     "end_time": "2025-08-19T23:45:58.863626Z",
     "start_time": "2025-08-19T23:45:58.859333Z"
    }
   },
   "cell_type": "code",
   "source": [
    "@dataclass\n",
    "class DataCollatorSpeechSeq2SeqWithPadding:\n",
    "    processor: WhisperProcessor\n",
    "\n",
    "    def __call__(self, features: List[Dict[str, Any]]) -> Dict[str, Any]:\n",
    "        input_features = [{\"input_features\": f[\"input_features\"]} for f in features]\n",
    "        label_features = [{\"input_ids\": f[\"labels\"]} for f in features]\n",
    "\n",
    "        batch = self.processor.feature_extractor.pad(input_features, return_tensors=\"pt\")\n",
    "        labels_batch = self.processor.tokenizer.pad(label_features, return_tensors=\"pt\")\n",
    "\n",
    "        # Replace padding bằng -100 để không tính vào loss\n",
    "        labels = labels_batch[\"input_ids\"].masked_fill(labels_batch.attention_mask.ne(1), -100)\n",
    "        batch[\"labels\"] = labels\n",
    "        return batch\n",
    "\n",
    "data_collator = DataCollatorSpeechSeq2SeqWithPadding(processor=processor)"
   ],
   "id": "abc51d66edca47ef",
   "outputs": [],
   "execution_count": 8
  },
  {
   "metadata": {
    "ExecuteTime": {
     "end_time": "2025-08-19T23:46:04.630256Z",
     "start_time": "2025-08-19T23:46:03.407728Z"
    }
   },
   "cell_type": "code",
   "source": [
    "wer_metric = evaluate.load(\"wer\")\n",
    "\n",
    "def compute_metrics(pred):\n",
    "    pred_ids = pred.predictions\n",
    "    label_ids = pred.label_ids\n",
    "    pred_str = processor.tokenizer.batch_decode(pred_ids, skip_special_tokens=True)\n",
    "    label_ids[label_ids == -100] = processor.tokenizer.pad_token_id\n",
    "    label_str = processor.tokenizer.batch_decode(label_ids, skip_special_tokens=True)\n",
    "    wer = wer_metric.compute(predictions=pred_str, references=label_str)\n",
    "    return {\"wer\": wer * 100}"
   ],
   "id": "86cb446becc55f17",
   "outputs": [
    {
     "data": {
      "text/plain": [
       "Downloading builder script: 0.00B [00:00, ?B/s]"
      ],
      "application/vnd.jupyter.widget-view+json": {
       "version_major": 2,
       "version_minor": 0,
       "model_id": "462ac858b4604834af7a7c6e9364de87"
      }
     },
     "metadata": {},
     "output_type": "display_data"
    }
   ],
   "execution_count": 9
  },
  {
   "metadata": {
    "ExecuteTime": {
     "end_time": "2025-08-19T23:49:14.353743Z",
     "start_time": "2025-08-19T23:49:14.301829Z"
    }
   },
   "cell_type": "code",
   "source": [
    "training_args = Seq2SeqTrainingArguments(\n",
    "    output_dir=OUTPUT_DIR,\n",
    "    per_device_train_batch_size=4,\n",
    "    per_device_eval_batch_size=4,\n",
    "    gradient_accumulation_steps=2,\n",
    "\n",
    "    # Thay evaluation_strategy bằng eval_strategy nếu phiên bản transformers cũ\n",
    "    eval_strategy=\"epoch\",\n",
    "    save_strategy=\"epoch\",\n",
    "\n",
    "    load_best_model_at_end=True,\n",
    "    metric_for_best_model=\"wer\",\n",
    "    greater_is_better=False,\n",
    "    save_total_limit=2,\n",
    "    learning_rate=1e-5,\n",
    "    warmup_steps=200,\n",
    "    num_train_epochs=3,\n",
    "    gradient_checkpointing=True,\n",
    "    fp16=torch.cuda.is_available(),\n",
    "    max_grad_norm=1.0,\n",
    "    logging_steps=50,\n",
    "    report_to=[\"tensorboard\"],\n",
    "    eval_accumulation_steps=1,\n",
    "    predict_with_generate=True,\n",
    "    push_to_hub=False,\n",
    "    dataloader_num_workers=2\n",
    ")"
   ],
   "id": "191d8a7995d866a8",
   "outputs": [],
   "execution_count": 14
  },
  {
   "metadata": {
    "ExecuteTime": {
     "end_time": "2025-08-20T07:10:37.311739Z",
     "start_time": "2025-08-20T07:10:37.261573Z"
    }
   },
   "cell_type": "code",
   "source": [
    "trainer = Seq2SeqTrainer(\n",
    "    model=model,\n",
    "    args=training_args,\n",
    "    train_dataset=train_dataset,\n",
    "    eval_dataset=eval_dataset,\n",
    "    processing_class=processor,  # <-- Thay vào chỗ tokenizer\n",
    "    data_collator=data_collator,\n",
    "    compute_metrics=compute_metrics,\n",
    "    callbacks=[EarlyStoppingCallback(...)]\n",
    ")"
   ],
   "id": "ba5214bbb03c21ee",
   "outputs": [
    {
     "ename": "NameError",
     "evalue": "name 'model' is not defined",
     "output_type": "error",
     "traceback": [
      "\u001B[0;31m---------------------------------------------------------------------------\u001B[0m",
      "\u001B[0;31mNameError\u001B[0m                                 Traceback (most recent call last)",
      "Cell \u001B[0;32mIn[3], line 2\u001B[0m\n\u001B[1;32m      1\u001B[0m trainer \u001B[38;5;241m=\u001B[39m Seq2SeqTrainer(\n\u001B[0;32m----> 2\u001B[0m     model\u001B[38;5;241m=\u001B[39mmodel,\n\u001B[1;32m      3\u001B[0m     args\u001B[38;5;241m=\u001B[39mtraining_args,\n\u001B[1;32m      4\u001B[0m     train_dataset\u001B[38;5;241m=\u001B[39mtrain_dataset,\n\u001B[1;32m      5\u001B[0m     eval_dataset\u001B[38;5;241m=\u001B[39meval_dataset,\n\u001B[1;32m      6\u001B[0m     processing_class\u001B[38;5;241m=\u001B[39mprocessor,  \u001B[38;5;66;03m# <-- Thay vào chỗ tokenizer\u001B[39;00m\n\u001B[1;32m      7\u001B[0m     data_collator\u001B[38;5;241m=\u001B[39mdata_collator,\n\u001B[1;32m      8\u001B[0m     compute_metrics\u001B[38;5;241m=\u001B[39mcompute_metrics,\n\u001B[1;32m      9\u001B[0m     callbacks\u001B[38;5;241m=\u001B[39m[EarlyStoppingCallback(\u001B[38;5;241m.\u001B[39m\u001B[38;5;241m.\u001B[39m\u001B[38;5;241m.\u001B[39m)]\n\u001B[1;32m     10\u001B[0m )\n",
      "\u001B[0;31mNameError\u001B[0m: name 'model' is not defined"
     ]
    }
   ],
   "execution_count": 3
  },
  {
   "metadata": {
    "ExecuteTime": {
     "end_time": "2025-08-20T07:10:11.715383Z",
     "start_time": "2025-08-20T07:10:11.292690Z"
    }
   },
   "cell_type": "code",
   "source": "trainer.train()",
   "id": "3ebc6a0159cb7295",
   "outputs": [
    {
     "ename": "NameError",
     "evalue": "name 'trainer' is not defined",
     "output_type": "error",
     "traceback": [
      "\u001B[0;31m---------------------------------------------------------------------------\u001B[0m",
      "\u001B[0;31mNameError\u001B[0m                                 Traceback (most recent call last)",
      "Cell \u001B[0;32mIn[1], line 1\u001B[0m\n\u001B[0;32m----> 1\u001B[0m trainer\u001B[38;5;241m.\u001B[39mtrain()\n",
      "\u001B[0;31mNameError\u001B[0m: name 'trainer' is not defined"
     ]
    }
   ],
   "execution_count": 1
  },
  {
   "metadata": {},
   "cell_type": "code",
   "outputs": [],
   "execution_count": null,
   "source": [
    "trainer.save_model(OUTPUT_DIR)\n",
    "processor.save_pretrained(OUTPUT_DIR)"
   ],
   "id": "9ee584df455879ac"
  },
  {
   "metadata": {},
   "cell_type": "code",
   "outputs": [],
   "execution_count": null,
   "source": [
    "history = trainer.state.log_history\n",
    "\n",
    "train_steps = [e[\"step\"] for e in history if \"loss\" in e and \"step\" in e]\n",
    "train_loss = [e[\"loss\"] for e in history if \"loss\" in e]\n",
    "eval_steps = [e[\"step\"] for e in history if \"eval_loss\" in e]\n",
    "eval_loss = [e[\"eval_loss\"] for e in history if \"eval_loss\" in e]\n",
    "eval_wer = [e[\"eval_wer\"] for e in history if \"eval_wer\" in e]\n",
    "lr_steps = [e[\"step\"] for e in history if \"learning_rate\" in e]\n",
    "lr_values = [e[\"learning_rate\"] for e in history if \"learning_rate\" in e]\n",
    "\n",
    "# Train vs Val Loss\n",
    "plt.figure(figsize=(6,4))\n",
    "plt.plot(train_steps, train_loss, label=\"Train loss\")\n",
    "plt.plot(eval_steps, eval_loss, label=\"Validation loss\")\n",
    "plt.xlabel(\"Step\"); plt.ylabel(\"Loss\")\n",
    "plt.title(\"Training & Validation Loss\"); plt.legend(); plt.show()\n",
    "\n",
    "# Validation WER\n",
    "plt.figure(figsize=(6,4))\n",
    "plt.plot(eval_steps, eval_wer, marker='o', color='orange')\n",
    "plt.xlabel(\"Step\"); plt.ylabel(\"WER (%)\")\n",
    "plt.title(\"Validation WER\"); plt.show()\n",
    "\n",
    "# Learning Rate schedule\n",
    "plt.figure(figsize=(6,4))\n",
    "plt.plot(lr_steps, lr_values, label=\"Learning Rate\", color=\"green\")\n",
    "plt.xlabel(\"Step\"); plt.ylabel(\"LR\")\n",
    "plt.title(\"Learning Rate Schedule\"); plt.legend(); plt.show()\n",
    "\n",
    "print(\"✅ Training finished. Logs available in TensorBoard.\")"
   ],
   "id": "66dc3450d045fcbc"
  }
 ],
 "metadata": {
  "kernelspec": {
   "display_name": "Python 3",
   "language": "python",
   "name": "python3"
  },
  "language_info": {
   "codemirror_mode": {
    "name": "ipython",
    "version": 2
   },
   "file_extension": ".py",
   "mimetype": "text/x-python",
   "name": "python",
   "nbconvert_exporter": "python",
   "pygments_lexer": "ipython2",
   "version": "2.7.6"
  }
 },
 "nbformat": 4,
 "nbformat_minor": 5
}
