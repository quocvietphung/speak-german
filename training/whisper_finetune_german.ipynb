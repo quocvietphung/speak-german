{
 "cells": [
  {
   "metadata": {},
   "cell_type": "markdown",
   "source": "# 🤖 1. Import thư viện",
   "id": "fd5bd0a3ed6e09c5"
  },
  {
   "metadata": {
    "ExecuteTime": {
     "end_time": "2025-08-20T10:22:07.714851Z",
     "start_time": "2025-08-20T10:22:00.298272Z"
    }
   },
   "cell_type": "code",
   "source": [
    "# Import libraries\n",
    "import os\n",
    "import torch\n",
    "import evaluate\n",
    "import numpy as np\n",
    "import matplotlib.pyplot as plt\n",
    "from dataclasses import dataclass\n",
    "from typing import Any, Dict, List\n",
    "\n",
    "from datasets import load_dataset, Audio, concatenate_datasets\n",
    "from transformers import (\n",
    "    WhisperProcessor,\n",
    "    WhisperForConditionalGeneration,\n",
    "    Seq2SeqTrainer,\n",
    "    Seq2SeqTrainingArguments,\n",
    "    EarlyStoppingCallback\n",
    ")\n",
    "from peft import get_peft_model, LoraConfig, TaskType"
   ],
   "id": "392021f6bb2497d",
   "outputs": [],
   "execution_count": 1
  },
  {
   "metadata": {
    "ExecuteTime": {
     "end_time": "2025-08-20T10:25:15.678706Z",
     "start_time": "2025-08-20T10:25:15.666641Z"
    }
   },
   "cell_type": "code",
   "source": [
    "from huggingface_hub import notebook_login\n",
    "notebook_login()\n",
    "\n",
    "MODEL_ID = \"openai/whisper-large-v3\"\n",
    "OUTPUT_DIR = \"./models/whisper_de_finetune\"\n",
    "CACHE_DIR = os.path.expanduser(\"~/.cache/huggingface\")"
   ],
   "id": "c1486203cf66e41a",
   "outputs": [
    {
     "data": {
      "text/plain": [
       "VBox(children=(HTML(value='<center> <img\\nsrc=https://huggingface.co/front/assets/huggingface_logo-noborder.sv…"
      ],
      "application/vnd.jupyter.widget-view+json": {
       "version_major": 2,
       "version_minor": 0,
       "model_id": "0b794c855c184fc8934f8844d4682602"
      }
     },
     "metadata": {},
     "output_type": "display_data"
    }
   ],
   "execution_count": 2
  },
  {
   "metadata": {
    "ExecuteTime": {
     "end_time": "2025-08-20T10:58:34.022510Z",
     "start_time": "2025-08-20T10:31:26.059738Z"
    }
   },
   "cell_type": "code",
   "source": [
    "from datasets import load_dataset, Audio\n",
    "from transformers import WhisperForConditionalGeneration, WhisperProcessor\n",
    "\n",
    "# Load dataset\n",
    "common_voice = load_dataset(\n",
    "    \"mozilla-foundation/common_voice_13_0\",\n",
    "    \"de\",\n",
    "    cache_dir=CACHE_DIR,\n",
    "    trust_remote_code=True,   # ✅ thêm dòng này\n",
    "    split={\n",
    "        \"train\": \"train[:10%]\",\n",
    "        \"validation\": \"validation[:10%]\",\n",
    "        \"test\": \"test[:10%]\"\n",
    "    }\n",
    ")\n",
    "\n",
    "# Resample audio\n",
    "for split in [\"train\", \"validation\", \"test\"]:\n",
    "    common_voice[split] = common_voice[split].cast_column(\"audio\", Audio(sampling_rate=16000))\n",
    "\n",
    "# Load model + processor\n",
    "processor = WhisperProcessor.from_pretrained(MODEL_ID, language=\"de\", task=\"transcribe\", cache_dir=CACHE_DIR)\n",
    "model = WhisperForConditionalGeneration.from_pretrained(MODEL_ID, cache_dir=CACHE_DIR)\n",
    "model.freeze_encoder()   # khóa encoder để giảm số tham số cần train"
   ],
   "id": "f12f6b3477776379",
   "outputs": [
    {
     "data": {
      "text/plain": [
       "n_shards.json:   0%|          | 0.00/13.2k [00:00<?, ?B/s]"
      ],
      "application/vnd.jupyter.widget-view+json": {
       "version_major": 2,
       "version_minor": 0,
       "model_id": "5804b22b34e84546b2a9f6152e8c30b8"
      }
     },
     "metadata": {},
     "output_type": "display_data"
    },
    {
     "data": {
      "text/plain": [
       "audio/de/train/de_train_0.tar:   0%|          | 0.00/1.72G [00:00<?, ?B/s]"
      ],
      "application/vnd.jupyter.widget-view+json": {
       "version_major": 2,
       "version_minor": 0,
       "model_id": "50aaa7f21eb54ebca4500328c48ee369"
      }
     },
     "metadata": {},
     "output_type": "display_data"
    },
    {
     "data": {
      "text/plain": [
       "audio/de/train/de_train_1.tar:   0%|          | 0.00/1.66G [00:00<?, ?B/s]"
      ],
      "application/vnd.jupyter.widget-view+json": {
       "version_major": 2,
       "version_minor": 0,
       "model_id": "23966928cbfc42648551c86dd3400255"
      }
     },
     "metadata": {},
     "output_type": "display_data"
    },
    {
     "data": {
      "text/plain": [
       "audio/de/train/de_train_2.tar:   0%|          | 0.00/1.65G [00:00<?, ?B/s]"
      ],
      "application/vnd.jupyter.widget-view+json": {
       "version_major": 2,
       "version_minor": 0,
       "model_id": "68fe3077f4ca4388ab2a8f6ea14fa4d5"
      }
     },
     "metadata": {},
     "output_type": "display_data"
    },
    {
     "data": {
      "text/plain": [
       "audio/de/train/de_train_3.tar:   0%|          | 0.00/1.58G [00:00<?, ?B/s]"
      ],
      "application/vnd.jupyter.widget-view+json": {
       "version_major": 2,
       "version_minor": 0,
       "model_id": "fe0572c9526e443895a5b6e88bee6c49"
      }
     },
     "metadata": {},
     "output_type": "display_data"
    },
    {
     "data": {
      "text/plain": [
       "audio/de/train/de_train_4.tar:   0%|          | 0.00/1.55G [00:00<?, ?B/s]"
      ],
      "application/vnd.jupyter.widget-view+json": {
       "version_major": 2,
       "version_minor": 0,
       "model_id": "d82300e612a74f28be216496dd211fd1"
      }
     },
     "metadata": {},
     "output_type": "display_data"
    },
    {
     "data": {
      "text/plain": [
       "audio/de/train/de_train_5.tar:   0%|          | 0.00/1.56G [00:00<?, ?B/s]"
      ],
      "application/vnd.jupyter.widget-view+json": {
       "version_major": 2,
       "version_minor": 0,
       "model_id": "6b1c27c019af46c9aa8d9dbb07db7ac8"
      }
     },
     "metadata": {},
     "output_type": "display_data"
    },
    {
     "data": {
      "text/plain": [
       "audio/de/train/de_train_6.tar:   0%|          | 0.00/1.61G [00:00<?, ?B/s]"
      ],
      "application/vnd.jupyter.widget-view+json": {
       "version_major": 2,
       "version_minor": 0,
       "model_id": "29e4e64109fe47d98fd71a92b57671c6"
      }
     },
     "metadata": {},
     "output_type": "display_data"
    },
    {
     "data": {
      "text/plain": [
       "audio/de/train/de_train_7.tar:   0%|          | 0.00/1.56G [00:00<?, ?B/s]"
      ],
      "application/vnd.jupyter.widget-view+json": {
       "version_major": 2,
       "version_minor": 0,
       "model_id": "101e9cef2962489aa54f0a92cd15f09a"
      }
     },
     "metadata": {},
     "output_type": "display_data"
    },
    {
     "data": {
      "text/plain": [
       "audio/de/train/de_train_8.tar:   0%|          | 0.00/1.58G [00:00<?, ?B/s]"
      ],
      "application/vnd.jupyter.widget-view+json": {
       "version_major": 2,
       "version_minor": 0,
       "model_id": "dd084f0deddc4a68a1922a168968e966"
      }
     },
     "metadata": {},
     "output_type": "display_data"
    },
    {
     "data": {
      "text/plain": [
       "audio/de/train/de_train_9.tar:   0%|          | 0.00/1.49G [00:00<?, ?B/s]"
      ],
      "application/vnd.jupyter.widget-view+json": {
       "version_major": 2,
       "version_minor": 0,
       "model_id": "933bfda220654e438aa51c07c04fb893"
      }
     },
     "metadata": {},
     "output_type": "display_data"
    },
    {
     "data": {
      "text/plain": [
       "audio/de/train/de_train_10.tar:   0%|          | 0.00/1.48G [00:00<?, ?B/s]"
      ],
      "application/vnd.jupyter.widget-view+json": {
       "version_major": 2,
       "version_minor": 0,
       "model_id": "2f738bc6b4f34ed0a080fb3896db3e9b"
      }
     },
     "metadata": {},
     "output_type": "display_data"
    },
    {
     "data": {
      "text/plain": [
       "audio/de/train/de_train_11.tar:   0%|          | 0.00/1.57G [00:00<?, ?B/s]"
      ],
      "application/vnd.jupyter.widget-view+json": {
       "version_major": 2,
       "version_minor": 0,
       "model_id": "0d0ff7c22c2b4cf1b2ddf30a8ceb3cb7"
      }
     },
     "metadata": {},
     "output_type": "display_data"
    },
    {
     "data": {
      "text/plain": [
       "audio/de/train/de_train_12.tar:   0%|          | 0.00/2.20G [00:00<?, ?B/s]"
      ],
      "application/vnd.jupyter.widget-view+json": {
       "version_major": 2,
       "version_minor": 0,
       "model_id": "a5ce36ba9ed44499947bf067185be9e2"
      }
     },
     "metadata": {},
     "output_type": "display_data"
    },
    {
     "data": {
      "text/plain": [
       "audio/de/train/de_train_13.tar:   0%|          | 0.00/765M [00:00<?, ?B/s]"
      ],
      "application/vnd.jupyter.widget-view+json": {
       "version_major": 2,
       "version_minor": 0,
       "model_id": "7166562e47f449a8bfdfc4e6c3a94687"
      }
     },
     "metadata": {},
     "output_type": "display_data"
    },
    {
     "data": {
      "text/plain": [
       "audio/de/dev/de_dev_0.tar:   0%|          | 0.00/718M [00:00<?, ?B/s]"
      ],
      "application/vnd.jupyter.widget-view+json": {
       "version_major": 2,
       "version_minor": 0,
       "model_id": "94d9f19ae900405387c3dde99787ee37"
      }
     },
     "metadata": {},
     "output_type": "display_data"
    },
    {
     "data": {
      "text/plain": [
       "audio/de/test/de_test_0.tar:   0%|          | 0.00/725M [00:00<?, ?B/s]"
      ],
      "application/vnd.jupyter.widget-view+json": {
       "version_major": 2,
       "version_minor": 0,
       "model_id": "5977e0bb65aa4a449d95e3cfe515eddf"
      }
     },
     "metadata": {},
     "output_type": "display_data"
    },
    {
     "data": {
      "text/plain": [
       "audio/de/other/de_other_0.tar:   0%|          | 0.00/220M [00:00<?, ?B/s]"
      ],
      "application/vnd.jupyter.widget-view+json": {
       "version_major": 2,
       "version_minor": 0,
       "model_id": "9432844dc22743aebf47fe8c66496d8b"
      }
     },
     "metadata": {},
     "output_type": "display_data"
    },
    {
     "data": {
      "text/plain": [
       "audio/de/invalidated/de_invalidated_0.ta(…):   0%|          | 0.00/1.73G [00:00<?, ?B/s]"
      ],
      "application/vnd.jupyter.widget-view+json": {
       "version_major": 2,
       "version_minor": 0,
       "model_id": "586b04bf01764b149df5771a0df495a2"
      }
     },
     "metadata": {},
     "output_type": "display_data"
    },
    {
     "data": {
      "text/plain": [
       "audio/de/invalidated/de_invalidated_1.ta(…):   0%|          | 0.00/415M [00:00<?, ?B/s]"
      ],
      "application/vnd.jupyter.widget-view+json": {
       "version_major": 2,
       "version_minor": 0,
       "model_id": "d22f90f5ae294f5fb41393110fde4a6b"
      }
     },
     "metadata": {},
     "output_type": "display_data"
    },
    {
     "data": {
      "text/plain": [
       "transcript/de/train.tsv:   0%|          | 0.00/144M [00:00<?, ?B/s]"
      ],
      "application/vnd.jupyter.widget-view+json": {
       "version_major": 2,
       "version_minor": 0,
       "model_id": "6ed61995e62345cabf2c59ef9b64b0a7"
      }
     },
     "metadata": {},
     "output_type": "display_data"
    },
    {
     "data": {
      "text/plain": [
       "transcript/de/dev.tsv:   0%|          | 0.00/3.90M [00:00<?, ?B/s]"
      ],
      "application/vnd.jupyter.widget-view+json": {
       "version_major": 2,
       "version_minor": 0,
       "model_id": "096df1157f504f6fb7a903f4408726d2"
      }
     },
     "metadata": {},
     "output_type": "display_data"
    },
    {
     "data": {
      "text/plain": [
       "transcript/de/test.tsv:   0%|          | 0.00/3.87M [00:00<?, ?B/s]"
      ],
      "application/vnd.jupyter.widget-view+json": {
       "version_major": 2,
       "version_minor": 0,
       "model_id": "f3bbb4bfed2f4897b0faab8c20bfb10e"
      }
     },
     "metadata": {},
     "output_type": "display_data"
    },
    {
     "data": {
      "text/plain": [
       "transcript/de/other.tsv:   0%|          | 0.00/1.68M [00:00<?, ?B/s]"
      ],
      "application/vnd.jupyter.widget-view+json": {
       "version_major": 2,
       "version_minor": 0,
       "model_id": "4618f786e9634fe085a9e99671067d76"
      }
     },
     "metadata": {},
     "output_type": "display_data"
    },
    {
     "data": {
      "text/plain": [
       "transcript/de/invalidated.tsv:   0%|          | 0.00/13.0M [00:00<?, ?B/s]"
      ],
      "application/vnd.jupyter.widget-view+json": {
       "version_major": 2,
       "version_minor": 0,
       "model_id": "91200792d7f7441081a0dcabcd839970"
      }
     },
     "metadata": {},
     "output_type": "display_data"
    },
    {
     "data": {
      "text/plain": [
       "Generating train split: 0 examples [00:00, ? examples/s]"
      ],
      "application/vnd.jupyter.widget-view+json": {
       "version_major": 2,
       "version_minor": 0,
       "model_id": "4b6638c182a246e8afbd8dd363e68bbc"
      }
     },
     "metadata": {},
     "output_type": "display_data"
    },
    {
     "name": "stderr",
     "output_type": "stream",
     "text": [
      "\n",
      "Reading metadata...: 0it [00:00, ?it/s]\u001B[A\n",
      "Reading metadata...: 18277it [00:00, 182764.51it/s]\u001B[A\n",
      "Reading metadata...: 40318it [00:00, 203856.94it/s]\u001B[A\n",
      "Reading metadata...: 60697it [00:00, 195023.80it/s]\u001B[A\n",
      "Reading metadata...: 82147it [00:00, 202489.92it/s]\u001B[A\n",
      "Reading metadata...: 102441it [00:00, 191307.14it/s]\u001B[A\n",
      "Reading metadata...: 125245it [00:00, 203172.55it/s]\u001B[A\n",
      "Reading metadata...: 147998it [00:00, 210861.52it/s]\u001B[A\n",
      "Reading metadata...: 170576it [00:00, 215495.04it/s]\u001B[A\n",
      "Reading metadata...: 192689it [00:00, 217224.62it/s]\u001B[A\n",
      "Reading metadata...: 215219it [00:01, 219686.25it/s]\u001B[A\n",
      "Reading metadata...: 237533it [00:01, 220729.76it/s]\u001B[A\n",
      "Reading metadata...: 259831it [00:01, 221404.54it/s]\u001B[A\n",
      "Reading metadata...: 281996it [00:01, 219219.48it/s]\u001B[A\n",
      "Reading metadata...: 304223it [00:01, 219447.92it/s]\u001B[A\n",
      "Reading metadata...: 327115it [00:01, 222261.97it/s]\u001B[A\n",
      "Reading metadata...: 349355it [00:01, 189113.50it/s]\u001B[A\n",
      "Reading metadata...: 370694it [00:01, 195581.93it/s]\u001B[A\n",
      "Reading metadata...: 393853it [00:01, 205492.77it/s]\u001B[A\n",
      "Reading metadata...: 416823it [00:01, 212331.81it/s]\u001B[A\n",
      "Reading metadata...: 439274it [00:02, 215832.38it/s]\u001B[A\n",
      "Reading metadata...: 461632it [00:02, 218086.86it/s]\u001B[A\n",
      "Reading metadata...: 483947it [00:02, 219569.38it/s]\u001B[A\n",
      "Reading metadata...: 506070it [00:02, 214736.71it/s]\u001B[A\n",
      "Reading metadata...: 540437it [00:02, 210433.01it/s]\u001B[A\n"
     ]
    },
    {
     "data": {
      "text/plain": [
       "Generating validation split: 0 examples [00:00, ? examples/s]"
      ],
      "application/vnd.jupyter.widget-view+json": {
       "version_major": 2,
       "version_minor": 0,
       "model_id": "50d056e502594b6697faff869a31a730"
      }
     },
     "metadata": {},
     "output_type": "display_data"
    },
    {
     "name": "stderr",
     "output_type": "stream",
     "text": [
      "\n",
      "Reading metadata...: 0it [00:00, ?it/s]\u001B[A\n",
      "Reading metadata...: 16143it [00:00, 103027.67it/s]\u001B[A\n"
     ]
    },
    {
     "data": {
      "text/plain": [
       "Generating test split: 0 examples [00:00, ? examples/s]"
      ],
      "application/vnd.jupyter.widget-view+json": {
       "version_major": 2,
       "version_minor": 0,
       "model_id": "028499fcc19b46c4825d2d9af2d22acd"
      }
     },
     "metadata": {},
     "output_type": "display_data"
    },
    {
     "name": "stderr",
     "output_type": "stream",
     "text": [
      "\n",
      "Reading metadata...: 16143it [00:00, 235447.74it/s]\n"
     ]
    },
    {
     "data": {
      "text/plain": [
       "Generating other split: 0 examples [00:00, ? examples/s]"
      ],
      "application/vnd.jupyter.widget-view+json": {
       "version_major": 2,
       "version_minor": 0,
       "model_id": "3b66f41d61424279af6f289f0f091647"
      }
     },
     "metadata": {},
     "output_type": "display_data"
    },
    {
     "name": "stderr",
     "output_type": "stream",
     "text": [
      "\n",
      "Reading metadata...: 6381it [00:00, 190642.03it/s]\n"
     ]
    },
    {
     "data": {
      "text/plain": [
       "Generating invalidated split: 0 examples [00:00, ? examples/s]"
      ],
      "application/vnd.jupyter.widget-view+json": {
       "version_major": 2,
       "version_minor": 0,
       "model_id": "63b1a2485cf84b0b8483028e4faa6830"
      }
     },
     "metadata": {},
     "output_type": "display_data"
    },
    {
     "name": "stderr",
     "output_type": "stream",
     "text": [
      "\n",
      "Reading metadata...: 0it [00:00, ?it/s]\u001B[A\n",
      "Reading metadata...: 24257it [00:00, 242555.20it/s]\u001B[A\n",
      "Reading metadata...: 50705it [00:00, 237447.19it/s]\u001B[A\n"
     ]
    },
    {
     "data": {
      "text/plain": [
       "preprocessor_config.json:   0%|          | 0.00/340 [00:00<?, ?B/s]"
      ],
      "application/vnd.jupyter.widget-view+json": {
       "version_major": 2,
       "version_minor": 0,
       "model_id": "4a2441bd8da540d6ac0050c0ce2604c1"
      }
     },
     "metadata": {},
     "output_type": "display_data"
    },
    {
     "data": {
      "text/plain": [
       "tokenizer_config.json: 0.00B [00:00, ?B/s]"
      ],
      "application/vnd.jupyter.widget-view+json": {
       "version_major": 2,
       "version_minor": 0,
       "model_id": "149ddb04ae82423cab236ac690b52eb6"
      }
     },
     "metadata": {},
     "output_type": "display_data"
    },
    {
     "data": {
      "text/plain": [
       "vocab.json: 0.00B [00:00, ?B/s]"
      ],
      "application/vnd.jupyter.widget-view+json": {
       "version_major": 2,
       "version_minor": 0,
       "model_id": "cfcdd630cb8c474fb42f833066f63005"
      }
     },
     "metadata": {},
     "output_type": "display_data"
    },
    {
     "data": {
      "text/plain": [
       "tokenizer.json: 0.00B [00:00, ?B/s]"
      ],
      "application/vnd.jupyter.widget-view+json": {
       "version_major": 2,
       "version_minor": 0,
       "model_id": "a8dd7d2d1bf940c0bec4326ff84a4466"
      }
     },
     "metadata": {},
     "output_type": "display_data"
    },
    {
     "data": {
      "text/plain": [
       "merges.txt: 0.00B [00:00, ?B/s]"
      ],
      "application/vnd.jupyter.widget-view+json": {
       "version_major": 2,
       "version_minor": 0,
       "model_id": "af48ca28f8f848c6bc2e03a1dd6a3143"
      }
     },
     "metadata": {},
     "output_type": "display_data"
    },
    {
     "data": {
      "text/plain": [
       "normalizer.json: 0.00B [00:00, ?B/s]"
      ],
      "application/vnd.jupyter.widget-view+json": {
       "version_major": 2,
       "version_minor": 0,
       "model_id": "e9c292d1ba6642a1a6661422d2106f29"
      }
     },
     "metadata": {},
     "output_type": "display_data"
    },
    {
     "data": {
      "text/plain": [
       "added_tokens.json: 0.00B [00:00, ?B/s]"
      ],
      "application/vnd.jupyter.widget-view+json": {
       "version_major": 2,
       "version_minor": 0,
       "model_id": "21c76ef1386d417794cfd55dac7ef45f"
      }
     },
     "metadata": {},
     "output_type": "display_data"
    },
    {
     "data": {
      "text/plain": [
       "special_tokens_map.json: 0.00B [00:00, ?B/s]"
      ],
      "application/vnd.jupyter.widget-view+json": {
       "version_major": 2,
       "version_minor": 0,
       "model_id": "ec49c364ecac4240ad1d7aefbd9c5237"
      }
     },
     "metadata": {},
     "output_type": "display_data"
    },
    {
     "data": {
      "text/plain": [
       "config.json: 0.00B [00:00, ?B/s]"
      ],
      "application/vnd.jupyter.widget-view+json": {
       "version_major": 2,
       "version_minor": 0,
       "model_id": "5a23d1ae93a64feeaca53b20d9699eae"
      }
     },
     "metadata": {},
     "output_type": "display_data"
    },
    {
     "data": {
      "text/plain": [
       "model.safetensors:   0%|          | 0.00/3.09G [00:00<?, ?B/s]"
      ],
      "application/vnd.jupyter.widget-view+json": {
       "version_major": 2,
       "version_minor": 0,
       "model_id": "037a9cdd7d3c4ba99c20b958cc048659"
      }
     },
     "metadata": {},
     "output_type": "display_data"
    },
    {
     "data": {
      "text/plain": [
       "generation_config.json: 0.00B [00:00, ?B/s]"
      ],
      "application/vnd.jupyter.widget-view+json": {
       "version_major": 2,
       "version_minor": 0,
       "model_id": "4840f47d622a407ab47771db60ea47ce"
      }
     },
     "metadata": {},
     "output_type": "display_data"
    }
   ],
   "execution_count": 5
  }
 ],
 "metadata": {
  "kernelspec": {
   "display_name": "Python 3",
   "language": "python",
   "name": "python3"
  },
  "language_info": {
   "codemirror_mode": {
    "name": "ipython",
    "version": 2
   },
   "file_extension": ".py",
   "mimetype": "text/x-python",
   "name": "python",
   "nbconvert_exporter": "python",
   "pygments_lexer": "ipython2",
   "version": "2.7.6"
  }
 },
 "nbformat": 4,
 "nbformat_minor": 5
}
